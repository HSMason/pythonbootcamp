{
 "cells": [
  {
   "cell_type": "markdown",
   "metadata": {},
   "source": [
    "# Exploratory Data Analysis with Pandas\n",
    "\n",
    "## Series and Dataframes\n",
    "\n",
    "## Loading a CSV into a Dataframe\n",
    "\n",
    "## Saving a Dataframe to a CSV or Excel spreadsheet\n",
    "\n",
    "## Adding a new column to a Dataframe\n",
    "\n",
    "## Aggregating and Filtering\n",
    "\n",
    "## Joins\n",
    "\n",
    "## Pivots\n",
    "\n",
    "## Data Cleaning\n",
    "\n",
    "## Charting\n",
    "\n",
    "See the Python Graph Gallery at https://python-graph-gallery.com/\n",
    "\n",
    "## Summarizing Data with pandas_profiling and facets\n",
    "\n",
    "https://github.com/pair-code/facets\n",
    "\n",
    "## Dealing with other filesystems\n",
    "\n",
    "https://www.pyfilesystem.org/\n",
    "\n",
    "## Excercise: Building a simple dashboard"
   ]
  },
  {
   "cell_type": "code",
   "execution_count": null,
   "metadata": {},
   "outputs": [],
   "source": []
  }
 ],
 "metadata": {
  "kernelspec": {
   "display_name": "Python 3",
   "language": "python",
   "name": "python3"
  },
  "language_info": {
   "codemirror_mode": {
    "name": "ipython",
    "version": 3
   },
   "file_extension": ".py",
   "mimetype": "text/x-python",
   "name": "python",
   "nbconvert_exporter": "python",
   "pygments_lexer": "ipython3",
   "version": "3.6.3"
  }
 },
 "nbformat": 4,
 "nbformat_minor": 2
}
