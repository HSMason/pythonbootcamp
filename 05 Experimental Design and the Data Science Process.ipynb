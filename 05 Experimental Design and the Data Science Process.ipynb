{
 "cells": [
  {
   "cell_type": "markdown",
   "metadata": {},
   "source": [
    "# Experimental Design and the Data Science Process\n",
    "\n",
    "## The Data Science Workflow\n",
    "\n",
    "TBD\n",
    "\n",
    "### Questions and Hypotheses\n",
    "\n",
    "### Getting Data\n",
    "\n",
    "### Can you Trust the Data?\n",
    "\n",
    "### Understanding the Data\n",
    "\n",
    "### Testing the Hypothesis\n"
   ]
  },
  {
   "cell_type": "code",
   "execution_count": null,
   "metadata": {},
   "outputs": [],
   "source": []
  }
 ],
 "metadata": {
  "kernelspec": {
   "display_name": "Python 3",
   "language": "python",
   "name": "python3"
  },
  "language_info": {
   "codemirror_mode": {
    "name": "ipython",
    "version": 3
   },
   "file_extension": ".py",
   "mimetype": "text/x-python",
   "name": "python",
   "nbconvert_exporter": "python",
   "pygments_lexer": "ipython3",
   "version": "3.6.4"
  }
 },
 "nbformat": 4,
 "nbformat_minor": 2
}
