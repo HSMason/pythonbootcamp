{
 "cells": [
  {
   "cell_type": "markdown",
   "metadata": {},
   "source": [
    "# Using Jupyter"
   ]
  },
  {
   "cell_type": "markdown",
   "metadata": {},
   "source": [
    "_Parts of this notebook are adapted from the Jupyter documentation_\n",
    "\n",
    "## Introduction\n",
    "\n",
    "The Jupyter Notebook is an interactive computing environment that enables users to author notebook documents that include executable code, markdown text with MathJax, multimedia, and static and interactive charts. These documents provide a complete and self-contained record of a computation that can be converted to various formats and shared with others.\n",
    "\n",
    "Documentation is available at https://jupyter-notebook.readthedocs.io/en/stable/\n",
    "\n",
    "The Jupyter Notebook combines three components:\n",
    "\n",
    "- **The notebook web application**: An interactive web application for writing and running code interactively and authoring notebook documents.\n",
    "- **Kernels**: Separate processes started by the notebook web application that runs users’ code in a given language and returns output back to the notebook web application. The kernel also handles things like computations for interactive widgets, tab completion and introspection.\n",
    "- **Notebook documents**: Self-contained documents (JSON text in files with .ipynb extension) that contain a representation of all content visible in the notebook web application, including inputs and outputs of the computations, narrative text, equations, images, and rich media representations of objects. Each notebook document has its own kernel.\n",
    "\n",
    "Notebooks consist of a linear sequence of cells. There are four basic cell types:\n",
    "\n",
    "- **Code cells**: Input and output of live code that is run in the kernel\n",
    "- **Markdown cells**: Narrative text with embedded LaTeX equations\n",
    "- **Heading cells**: 6 levels of hierarchical organization and formatting (I usually just put my headings in markdown cells but using heading cells can be useful for outline views of a document)\n",
    "- **Raw cells**: Unformatted text that is included, without modification, when notebooks are converted to different formats using nbconvert\n",
    "\n",
    "\n",
    "\n",
    "## Running Jupyter\n",
    "\n",
    "Install with:\n",
    "\n",
    "    conda install notebook\n",
    "    \n",
    "and run with:\n",
    "\n",
    "    jupyter notebook\n",
    "    \n",
    "This should open a web browser pointing at the **notebook dashboard**, which displays the notebooks and files in the current directory.\n",
    "\n",
    "![https://jupyter-notebook.readthedocs.io/en/stable/_images/dashboard_files_tab.png](https://jupyter-notebook.readthedocs.io/en/stable/_images/dashboard_files_tab.png)\n",
    "\n",
    "The top of the notebook list displays clickable breadcrumbs of the current directory. By clicking on these breadcrumbs or on sub-directories in the notebook list, you can navigate your file system.\n",
    "\n",
    "To create a new notebook, click on the “New” button at the top of the list and select a kernel from the dropdown. Which kernels are listed depend on what’s installed on the server. Some of the kernels in the screenshot below may not exist as an option to you.\n",
    "\n",
    "The notebook list shows green “Running” text and a green notebook icon next to running notebooks (as seen below). Notebooks remain running until you explicitly shut them down; closing the notebook’s page is not sufficient.\n",
    "\n",
    "To shutdown, delete, duplicate, or rename a notebook check the checkbox next to it and an array of controls will appear at the top of the notebook list.\n",
    "\n",
    "To see all of your running notebooks along with their directories, click on the “Running” tab. Here you can see the running kernels and choose to shut them down.\n",
    "\n",
    "If you create a new notebook or open an existing one, you will be taken to the notebook user interface, which allows you to run code and author notebook documents interactively. The notebook UI has the following main areas:\n",
    "\n",
    "- Menu\n",
    "- Toolbar\n",
    "- Notebook area and cells\n",
    "\n",
    "The notebook has an interactive tour of these elements that can be started in the “Help:User Interface Tour” menu item.\n",
    "\n",
    "The notebook UI is modal. If you click in a cell or press ENTER you enter \"edit mode\" and can type into the cell. If you click outside a cell or press ESC you will be in \"command mode\" which allows you to edit the notebook structure.\n",
    "\n",
    "You can execute a code cell or render a markdown cell by pressing Shift-ESC. Focus will move to the next cell (a new cell will be created if you executed the last cell).\n",
    "\n"
   ]
  },
  {
   "cell_type": "markdown",
   "metadata": {},
   "source": [
    "## Tutorial\n",
    "\n",
    "Basics: https://jupyter-notebook.readthedocs.io/en/stable/examples/Notebook/Notebook%20Basics.html\n",
    "\n",
    "http://jakevdp.github.io/blog/2017/03/03/reproducible-data-analysis-in-jupyter/\n",
    "\n",
    "## Markdown\n",
    "\n",
    "Jupyter supports GitHub-flavored markdown; see https://guides.github.com/pdfs/markdown-cheatsheet-online.pdf for a quick reference.\n",
    "\n",
    "\n",
    "## Re-ordering, Inserting, Deleting and Executing Cells\n",
    "\n",
    "![https://jupyter-notebook.readthedocs.io/en/stable/_images/menubar_toolbar.png](https://jupyter-notebook.readthedocs.io/en/stable/_images/menubar_toolbar.png)\n",
    "\n",
    "The notebook toolbar has options to save the notebook, add (+), delete (cut) cells, copy cells, paste cells, move cells up or down in the notebook, run the cell, interrupt or restart the kernel, and change the cell type.\n",
    "\n",
    "To run a cell that has focus, use Shift-Enter. The output of the execution will be added to the notebook. Try it now:"
   ]
  },
  {
   "cell_type": "code",
   "execution_count": 3,
   "metadata": {},
   "outputs": [
    {
     "data": {
      "text/plain": [
       "10"
      ]
     },
     "execution_count": 3,
     "metadata": {},
     "output_type": "execute_result"
    }
   ],
   "source": [
    "1+2+3+4"
   ]
  },
  {
   "cell_type": "markdown",
   "metadata": {},
   "source": [
    "The result of execution of the most recently executed cell is assigned to a special variable, '_':"
   ]
  },
  {
   "cell_type": "code",
   "execution_count": 4,
   "metadata": {},
   "outputs": [
    {
     "name": "stdout",
     "output_type": "stream",
     "text": [
      "10\n"
     ]
    }
   ],
   "source": [
    "print(_)"
   ]
  },
  {
   "cell_type": "markdown",
   "metadata": {},
   "source": [
    "You can put a semicolon at the end of code in a cell to suppress the output. Try it:"
   ]
  },
  {
   "cell_type": "code",
   "execution_count": 5,
   "metadata": {
    "collapsed": true
   },
   "outputs": [],
   "source": [
    "1+2+3+4;"
   ]
  },
  {
   "cell_type": "markdown",
   "metadata": {},
   "source": [
    "Note how the cells are marked with `In` and `Out`, and a count. The count allows you to keep track of the order in which cells were executed. `Out` is the result of execution, unless the execution of the cell resulted in some output to `stdout`/`stderr`; in this case that is shown instead with no `Out` label. Output to `stderr` is shown in red:"
   ]
  },
  {
   "cell_type": "code",
   "execution_count": 11,
   "metadata": {},
   "outputs": [
    {
     "name": "stderr",
     "output_type": "stream",
     "text": [
      "hello\n"
     ]
    }
   ],
   "source": [
    "import sys\n",
    "print('hello', file=sys.stderr)"
   ]
  },
  {
   "cell_type": "markdown",
   "metadata": {},
   "source": [
    "`In` and `Out` are also variables that contain the history of execution (`In` is a list/array of strings, while `Out` is a dictionary/hash table):"
   ]
  },
  {
   "cell_type": "code",
   "execution_count": 14,
   "metadata": {},
   "outputs": [
    {
     "name": "stdout",
     "output_type": "stream",
     "text": [
      "['', '1+2+3+4;', 'print(_)', '1+2+3+4', 'print(_)', '1+2+3+4;', '1/0', 'jhd', \"print >> stderr >> 'foo'\", \"get_ipython().magic('pinfo print')\", \"print('hello', file=sys.stderr)\", \"import sys\\nprint('hello', file=sys.stderr)\", \"x = get_ipython().getoutput('ls -l')\", 'print(x)', 'print(In)']\n"
     ]
    }
   ],
   "source": [
    "print(In)"
   ]
  },
  {
   "cell_type": "code",
   "execution_count": 15,
   "metadata": {},
   "outputs": [
    {
     "name": "stdout",
     "output_type": "stream",
     "text": [
      "{3: 10}\n"
     ]
    }
   ],
   "source": [
    "print(Out)"
   ]
  },
  {
   "cell_type": "markdown",
   "metadata": {},
   "source": [
    "## Executing Shell Commands\n",
    "\n",
    "You can execute a sheel command in a cell by starting it with '!'. For example, if your notebook relies on certain packages, you may want to start with a cell that uses shell commands to pip install the dependencies.\n",
    "\n",
    "Try it:"
   ]
  },
  {
   "cell_type": "code",
   "execution_count": 6,
   "metadata": {},
   "outputs": [
    {
     "name": "stdout",
     "output_type": "stream",
     "text": [
      "total 24016\r\n",
      "-rw-r--r--  1 gwheeler  staff     12820 Nov 13 13:59 02 Using Jupyter.ipynb\r\n",
      "-rw-r--r--  1 gwheeler  staff     70010 Nov 11 10:12 03 Python Overview.ipynb\r\n",
      "-rw-r--r--  1 gwheeler  staff     41483 Nov 11 21:33 04 Exploratory Data Analysis.ipynb\r\n",
      "-rw-r--r--  1 gwheeler  staff       581 Nov  9 20:18 05 Getting Started with PyCharm.ipynb\r\n",
      "-rw-r--r--  1 gwheeler  staff      1115 Oct 30 13:03 06 Testing and Debugging.ipynb\r\n",
      "-rw-r--r--  1 gwheeler  staff       581 Nov  9 20:19 07 Packaging Code.ipynb\r\n",
      "-rw-r--r--  1 gwheeler  staff        72 Nov  9 20:17 08 Building a Dashboard with Spyre.ipynb\r\n",
      "-rw-r--r--  1 gwheeler  staff       555 Oct 30 13:03 09 Simple ML Models - Regression and Decision Trees.ipynb\r\n",
      "-rw-r--r--  1 gwheeler  staff       555 Oct 30 13:03 10 Basic NLP.ipynb\r\n",
      "-rw-r--r--  1 gwheeler  staff     38174 Nov 11 21:06 100-pandas-puzzles.ipynb\r\n",
      "-rw-r--r--@ 1 gwheeler  staff  12095457 Nov 11 20:55 NationalNames.csv.zip\r\n"
     ]
    }
   ],
   "source": [
    "!ls -l"
   ]
  },
  {
   "cell_type": "markdown",
   "metadata": {},
   "source": [
    "It's possible to assign this to a variable:"
   ]
  },
  {
   "cell_type": "code",
   "execution_count": 12,
   "metadata": {
    "collapsed": true
   },
   "outputs": [],
   "source": [
    "x = !ls -l"
   ]
  },
  {
   "cell_type": "code",
   "execution_count": 13,
   "metadata": {},
   "outputs": [
    {
     "name": "stdout",
     "output_type": "stream",
     "text": [
      "['total 24056', '-rw-r--r--  1 gram  staff       883 Oct 28 18:18 01 Getting Started', '-rw-r--r--  1 gram  staff     21694 Nov 19 11:49 02 Using Jupyter.ipynb', '-rw-r--r--  1 gram  staff     74026 Nov 16 16:48 03 Python Overview.ipynb', '-rw-r--r--  1 gram  staff     41587 Nov 16 16:48 04 Exploratory Data Analysis.ipynb', '-rw-r--r--  1 gram  staff      3701 Oct 30 06:04 04 Project Structure', '-rw-r--r--  1 gram  staff       581 Nov 16 16:48 05 Getting Started with PyCharm.ipynb', '-rw-r--r--  1 gram  staff      1115 Oct 29 06:17 06 Testing and Debugging.ipynb', '-rw-r--r--  1 gram  staff       581 Nov 16 16:48 07 Packaging Code.ipynb', '-rw-r--r--  1 gram  staff        72 Nov 16 16:48 08 Building a Dashboard with Spyre.ipynb', '-rw-r--r--  1 gram  staff       555 Oct 29 06:07 09 Simple ML Models - Regression and Decision Trees.ipynb', '-rw-r--r--  1 gram  staff       555 Oct 29 06:08 10 Basic NLP.ipynb', '-rw-r--r--  1 gram  staff     38174 Nov 16 16:48 100-pandas-puzzles.ipynb', '-rw-r--r--  1 gram  staff  12095457 Nov 16 16:48 NationalNames.csv.zip']\n"
     ]
    }
   ],
   "source": [
    "print(x)"
   ]
  },
  {
   "cell_type": "markdown",
   "metadata": {},
   "source": [
    "## Checkpoints and Saving\n",
    "\n",
    "The notebook is saved automatically periodically. Expplicitly saving the notebook from the toolbar or file menu actually creates a time-stamped \"checkpoint\", and you can revert to a saved checkpoint from the file menu. \n",
    "\n",
    "## Tips and Tricks\n",
    "\n",
    "\n",
    "You can write math with MathJax. Try executing the next cell, which is a MarkDown cell:"
   ]
  },
  {
   "cell_type": "markdown",
   "metadata": {},
   "source": [
    "$$ P(A \\mid B) = \\frac{P(B \\mid A) \\, P(A)}{P(B)} $$\n",
    "\n",
    "Pi is $\\pi$ okay?"
   ]
  },
  {
   "cell_type": "markdown",
   "metadata": {},
   "source": [
    "You can get help on a Python function (view its _docstring_) by following it with `?` in Jupyter:"
   ]
  },
  {
   "cell_type": "code",
   "execution_count": 11,
   "metadata": {
    "collapsed": true
   },
   "outputs": [],
   "source": [
    "import os\n",
    "\n",
    "os.path.exists?"
   ]
  },
  {
   "cell_type": "markdown",
   "metadata": {},
   "source": [
    "That requires you to execute the code; you can do the same without executing the whole cell by typing Shift-TAB after the function name. You can also use the built-in Python function `help`:"
   ]
  },
  {
   "cell_type": "code",
   "execution_count": 12,
   "metadata": {},
   "outputs": [
    {
     "name": "stdout",
     "output_type": "stream",
     "text": [
      "Help on built-in function len in module builtins:\n",
      "\n",
      "len(obj, /)\n",
      "    Return the number of items in a container.\n",
      "\n"
     ]
    }
   ],
   "source": [
    "help(len)"
   ]
  },
  {
   "cell_type": "code",
   "execution_count": 13,
   "metadata": {},
   "outputs": [
    {
     "name": "stdout",
     "output_type": "stream",
     "text": [
      "Help on function exists in module genericpath:\n",
      "\n",
      "exists(path)\n",
      "    Test whether a path exists.  Returns False for broken symbolic links\n",
      "\n"
     ]
    }
   ],
   "source": [
    "help(os.path.exists)"
   ]
  },
  {
   "cell_type": "markdown",
   "metadata": {},
   "source": [
    "This works on your own functions too so writing docstrings is always recommended.\n",
    "\n",
    "You can go a step further and use two ?? to get the source code of a function."
   ]
  },
  {
   "cell_type": "code",
   "execution_count": 14,
   "metadata": {
    "collapsed": true
   },
   "outputs": [],
   "source": [
    "import pandas as pd\n",
    "pd.concat??"
   ]
  },
  {
   "cell_type": "markdown",
   "metadata": {},
   "source": [
    "Jupyter supports tab-completion; try it below:"
   ]
  },
  {
   "cell_type": "code",
   "execution_count": 15,
   "metadata": {
    "collapsed": true
   },
   "outputs": [],
   "source": [
    "from itertools import combinations\n"
   ]
  },
  {
   "cell_type": "markdown",
   "metadata": {},
   "source": [
    "More good tips here: https://www.dataquest.io/blog/jupyter-notebook-tips-tricks-shortcuts/\n",
    "\n",
    "You can write presentations in Jupyter and even do live code in your presentation using Rise: https://github.com/damianavila/RISE\n",
    "\n",
    "Here's an example, which is an overview of Jupyter :-) http://quasiben.github.io/dfwmeetup_2014/#/\n",
    "\n",
    "For more advanced users, Jupyter can be extended and customized in multiple ways; you can read about them here: https://mindtrove.info/4-ways-to-extend-jupyter-notebook/"
   ]
  },
  {
   "cell_type": "markdown",
   "metadata": {},
   "source": [
    "## Interesting Notebooks\n",
    "\n",
    "See https://github.com/jupyter/jupyter/wiki/A-gallery-of-interesting-Jupyter-Notebooks\n",
    "\n",
    "## Jupyter Shortcuts\n",
    "\n",
    "| Keys | Action |\n",
    "|------|--------|\n",
    "|  Ctrl a    | Move cursor to line start       |\n",
    "|  Ctrl e    | Move cursor to line end       |\n",
    "|  Ctrl k    | Cut to end of line       |\n",
    "| Ctrl u | Cut from start of line |\n",
    "| Ctrl y | Pste cut text |\n",
    "| Ctrl p | Access previous command in history |\n",
    "| Ctrl n | Access next command in hsitory|\n",
    "| Ctrl r | Reverse search through history |\n",
    "| Ctrl c | Interrupt kernel |\n",
    "| Ctrl Shift - | Split cell at cursor |\n",
    "| Shift Down | Select next cell down (multi-select) |\n",
    "| Shift Up | Select next cell up (multi-select) |\n",
    "\n",
    "https://cdn.oreillystatic.com/pdf/jupyter-shortcuts.pdf\n",
    "\n",
    "## Cell Magics\n",
    "\n",
    "`%load` can load code from external scripts. We will use that for hiding the answers to some exercises.\n",
    "\n",
    "`%run` will let you run an external script or another notebook.\n",
    "\n",
    "`%%time` at the start of a cell will time the execution of the cell and print a summary when done.\n",
    "\n",
    "You can use `%lsmagic` to see all availble magics.\n",
    "\n",
    "More documentation on magics is available here: http://ipython.readthedocs.io/en/stable/interactive/magics.html"
   ]
  },
  {
   "cell_type": "markdown",
   "metadata": {},
   "source": [
    "## Custom Magics\n",
    "\n",
    "You can easily create your own magics; they are just Python functions. You just need to import the appropriate Python decorators and then annotate your function. We're getting ahead of ourselves but a quick example should illustrate:"
   ]
  },
  {
   "cell_type": "code",
   "execution_count": 16,
   "metadata": {
    "collapsed": true
   },
   "outputs": [],
   "source": [
    "from IPython.core.magic import register_line_magic\n",
    "\n",
    "@register_line_magic\n",
    "def greet(line):\n",
    "    print(f'Hello {line}!')"
   ]
  },
  {
   "cell_type": "code",
   "execution_count": 17,
   "metadata": {},
   "outputs": [
    {
     "name": "stdout",
     "output_type": "stream",
     "text": [
      "Hello Dave!\n"
     ]
    }
   ],
   "source": [
    "%greet Dave"
   ]
  },
  {
   "cell_type": "markdown",
   "metadata": {},
   "source": [
    "Read more here: http://ipython.readthedocs.io/en/stable/config/custommagics.html\n",
    "\n"
   ]
  }
 ],
 "metadata": {
  "kernelspec": {
   "display_name": "Python 3",
   "language": "python",
   "name": "python3"
  },
  "language_info": {
   "codemirror_mode": {
    "name": "ipython",
    "version": 3
   },
   "file_extension": ".py",
   "mimetype": "text/x-python",
   "name": "python",
   "nbconvert_exporter": "python",
   "pygments_lexer": "ipython3",
   "version": "3.6.3"
  }
 },
 "nbformat": 4,
 "nbformat_minor": 2
}
