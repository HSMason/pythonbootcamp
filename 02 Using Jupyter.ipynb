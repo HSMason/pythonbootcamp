{
 "cells": [
  {
   "cell_type": "markdown",
   "metadata": {},
   "source": [
    "# Using Jupyter"
   ]
  },
  {
   "cell_type": "markdown",
   "metadata": {},
   "source": [
    "_Parts of this notebook are adapted from the Jupyter documentation_\n",
    "\n",
    "## Introduction\n",
    "\n",
    "The Jupyter Notebook is an interactive computing environment that enables users to author notebook documents that include executable code, markdown text with MathJax, multimedia, and static and interactive charts. These documents provide a complete and self-contained record of a computation that can be converted to various formats and shared with others.\n",
    "\n",
    "Documentation is available at https://jupyter-notebook.readthedocs.io/en/stable/\n",
    "\n",
    "The Jupyter Notebook combines three components:\n",
    "\n",
    "- **The notebook web application**: An interactive web application for writing and running code interactively and authoring notebook documents.\n",
    "- **Kernels**: Separate processes started by the notebook web application that runs users’ code in a given language and returns output back to the notebook web application. The kernel also handles things like computations for interactive widgets, tab completion and introspection.\n",
    "- **Notebook documents**: Self-contained documents (JSON text in files with .ipynb extension) that contain a representation of all content visible in the notebook web application, including inputs and outputs of the computations, narrative text, equations, images, and rich media representations of objects. Each notebook document has its own kernel.\n",
    "\n",
    "Notebooks consist of a linear sequence of cells. There are four basic cell types:\n",
    "\n",
    "- **Code cells**: Input and output of live code that is run in the kernel\n",
    "- **Markdown cells**: Narrative text with embedded LaTeX equations\n",
    "- **Heading cells**: 6 levels of hierarchical organization and formatting (I usually just put my headings in markdown cells but using heading cells can be useful for outline views of a document)\n",
    "- **Raw cells**: Unformatted text that is included, without modification, when notebooks are converted to different formats using nbconvert\n",
    "\n",
    "\n",
    "\n",
    "## Running Jupyter\n",
    "\n",
    "Install with:\n",
    "\n",
    "    conda install notebook\n",
    "    \n",
    "and run with:\n",
    "\n",
    "    jupyter notebook\n",
    "    \n",
    "This should open a web browser pointing at the **notebook dashboard**, which displays the notebooks and files in the current directory.\n",
    "\n",
    "![https://jupyter-notebook.readthedocs.io/en/stable/_images/dashboard_files_tab.png](https://jupyter-notebook.readthedocs.io/en/stable/_images/dashboard_files_tab.png)\n",
    "\n",
    "The top of the notebook list displays clickable breadcrumbs of the current directory. By clicking on these breadcrumbs or on sub-directories in the notebook list, you can navigate your file system.\n",
    "\n",
    "To create a new notebook, click on the “New” button at the top of the list and select a kernel from the dropdown. Which kernels are listed depend on what’s installed on the server. Some of the kernels in the screenshot below may not exist as an option to you.\n",
    "\n",
    "The notebook list shows green “Running” text and a green notebook icon next to running notebooks (as seen below). Notebooks remain running until you explicitly shut them down; closing the notebook’s page is not sufficient.\n",
    "\n",
    "To shutdown, delete, duplicate, or rename a notebook check the checkbox next to it and an array of controls will appear at the top of the notebook list.\n",
    "\n",
    "To see all of your running notebooks along with their directories, click on the “Running” tab. Here you can see the running kernels and choose to shut them down.\n",
    "\n",
    "If you create a new notebook or open an existing one, you will be taken to the notebook user interface, which allows you to run code and author notebook documents interactively. The notebook UI has the following main areas:\n",
    "\n",
    "- Menu\n",
    "- Toolbar\n",
    "- Notebook area and cells\n",
    "\n",
    "The notebook has an interactive tour of these elements that can be started in the “Help:User Interface Tour” menu item.\n",
    "\n",
    "The notebook UI is modal. If you click in a cell or press ENTER you enter \"edit mode\" and can type into the cell. If you click outside a cell or press ESC you will be in \"command mode\" which allows you to edit the notebook structure.\n",
    "\n",
    "You can execute a code cell or render a markdown cell by pressing Shift-ESC. Focus will move to the next cell (a new cell will be created if you executed the last cell).\n",
    "\n"
   ]
  },
  {
   "cell_type": "markdown",
   "metadata": {},
   "source": [
    "## Tutorial\n",
    "\n",
    "Basics: https://jupyter-notebook.readthedocs.io/en/stable/examples/Notebook/Notebook%20Basics.html\n",
    "\n",
    "http://jakevdp.github.io/blog/2017/03/03/reproducible-data-analysis-in-jupyter/\n",
    "\n",
    "\n",
    "## Re-ordering, Inserting and Deleting Cells\n",
    "\n",
    "![https://jupyter-notebook.readthedocs.io/en/stable/_images/menubar_toolbar.png](https://jupyter-notebook.readthedocs.io/en/stable/_images/menubar_toolbar.png)\n",
    "\n",
    "The notebook toolbar has options to save the notebook, add (+), delete (cut) cells, copy cells, paste cells, move cells up or down in the notebook, run the cell, interrupt or restart the kernel, and change the cell type.\n",
    "\n",
    "## Executing Shell Commands\n",
    "\n",
    "You can execute a sheel command in a cell by starting it with '!'. For example, if your notebook relies on certain packages, you may want to start with a cell that uses shell commands to pip install the dependencies.\n",
    "\n",
    "## Checkpoints and Saving\n",
    "\n",
    "The notebook is saved automatically periodically. Expplicitly saving the notebook from the toolbar or file menu actually creates a time-stamped \"checkpoint\", and you can revert to a saved checkpoint from the file menu. \n",
    "\n",
    "## Tips and Tricks\n",
    "\n",
    "You can get help on a Python function by following it with `?` in Jupyter:"
   ]
  },
  {
   "cell_type": "code",
   "execution_count": 2,
   "metadata": {},
   "outputs": [
    {
     "data": {
      "text/plain": [
       "\u001b[0;31mSignature:\u001b[0m \u001b[0mos\u001b[0m\u001b[0;34m.\u001b[0m\u001b[0mpath\u001b[0m\u001b[0;34m.\u001b[0m\u001b[0mexists\u001b[0m\u001b[0;34m(\u001b[0m\u001b[0mpath\u001b[0m\u001b[0;34m)\u001b[0m\u001b[0;34m\u001b[0m\u001b[0m\n",
       "\u001b[0;31mDocstring:\u001b[0m Test whether a path exists.  Returns False for broken symbolic links\n",
       "\u001b[0;31mFile:\u001b[0m      ~/anaconda/lib/python3.6/genericpath.py\n",
       "\u001b[0;31mType:\u001b[0m      function\n"
      ]
     },
     "metadata": {},
     "output_type": "display_data"
    }
   ],
   "source": [
    "import os\n",
    "\n",
    "os.path.exists?\n"
   ]
  },
  {
   "cell_type": "markdown",
   "metadata": {},
   "source": [
    "That requires you to execute the code; you can do the same without executing the whole cell by typing Shift-TAB after the function name."
   ]
  },
  {
   "cell_type": "code",
   "execution_count": null,
   "metadata": {},
   "outputs": [],
   "source": []
  },
  {
   "cell_type": "markdown",
   "metadata": {},
   "source": [
    "# Interesting Notebooks\n",
    "\n",
    "See https://github.com/jupyter/jupyter/wiki/A-gallery-of-interesting-Jupyter-Notebooks\n",
    "\n",
    "# Jupyter Shortcuts\n",
    "\n",
    "https://cdn.oreillystatic.com/pdf/jupyter-shortcuts.pdf\n",
    "\n",
    "# Further Reading\n",
    "\n",
    "Handling streaming data in Pandas and Jupyter: http://matthewrocklin.com/blog/work/2017/10/16/streaming-dataframes-1\n",
    "\n"
   ]
  },
  {
   "cell_type": "code",
   "execution_count": null,
   "metadata": {},
   "outputs": [],
   "source": []
  }
 ],
 "metadata": {
  "kernelspec": {
   "display_name": "Python 3",
   "language": "python",
   "name": "python3"
  },
  "language_info": {
   "codemirror_mode": {
    "name": "ipython",
    "version": 3
   },
   "file_extension": ".py",
   "mimetype": "text/x-python",
   "name": "python",
   "nbconvert_exporter": "python",
   "pygments_lexer": "ipython3",
   "version": "3.6.3"
  }
 },
 "nbformat": 4,
 "nbformat_minor": 2
}
