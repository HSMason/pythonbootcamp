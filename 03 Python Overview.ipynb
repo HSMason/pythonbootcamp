{
 "cells": [
  {
   "cell_type": "markdown",
   "metadata": {},
   "source": [
    "# Python Overview\n",
    "\n",
    "## Python's Origins\n",
    "\n",
    "## How Python Evolves\n",
    "\n",
    "Python evolves in a fairly straightforward way, more-or-less like this:\n",
    "\n",
    "- people propose changes by writing *Python Enhancement Proposals* (PEPs)\n",
    "- the Python core committee will assign a 'dictator' who will decide whether the PEP is worthy of becoming part of the standard, and if so it does, after some amount of discussion and revision\n",
    "- disagreements are finally settled by Guido van Rossum, Python's inventor and the 'Benevolent Dictator for Life' (BDFL)\n",
    "\n",
    "An important standard PEP is the Style Guide, PEP-8 (https://www.python.org/dev/peps/pep-0008/). By default, PyCharm will warn of any PEP-8 violations. There are external tools such as `flake8` (https://gitlab.com/pycqa/flake8) that can be used to check code for compliance in other environments.\n",
    "\n",
    "## The Zen of Python\n"
   ]
  },
  {
   "cell_type": "code",
   "execution_count": 1,
   "metadata": {},
   "outputs": [
    {
     "name": "stdout",
     "output_type": "stream",
     "text": [
      "The Zen of Python, by Tim Peters\n",
      "\n",
      "Beautiful is better than ugly.\n",
      "Explicit is better than implicit.\n",
      "Simple is better than complex.\n",
      "Complex is better than complicated.\n",
      "Flat is better than nested.\n",
      "Sparse is better than dense.\n",
      "Readability counts.\n",
      "Special cases aren't special enough to break the rules.\n",
      "Although practicality beats purity.\n",
      "Errors should never pass silently.\n",
      "Unless explicitly silenced.\n",
      "In the face of ambiguity, refuse the temptation to guess.\n",
      "There should be one-- and preferably only one --obvious way to do it.\n",
      "Although that way may not be obvious at first unless you're Dutch.\n",
      "Now is better than never.\n",
      "Although never is often better than *right* now.\n",
      "If the implementation is hard to explain, it's a bad idea.\n",
      "If the implementation is easy to explain, it may be a good idea.\n",
      "Namespaces are one honking great idea -- let's do more of those!\n"
     ]
    }
   ],
   "source": [
    "import this"
   ]
  },
  {
   "cell_type": "markdown",
   "metadata": {},
   "source": [
    "## StackOverflow is your friend!\n",
    "\n",
    "For Python questions and Python data science questions, make use of StackOverflow. Pay attention to comments on suggested answers; the \"accepted answer\" is not always the best. Look for comments about whether it is the \"most Pythonic\".\n",
    "\n",
    "https://stackoverflow.com/questions/tagged/python\n",
    "\n",
    "## Python 2.7 or Python 3.x?\n",
    "\n",
    "You can use conda to create a Python 2.7 virtual environment for when you have to use 2.7, but all new projects should be Python 3.5 or later. Python 2.7 is the end of the 2.x line and is supposed to be end-of-lifed in 2020. Avoid it; there is\n",
    "very little reason anymore to use it.\n",
    "\n",
    "## Python docs\n",
    "\n",
    "https://docs.python.org/3/\n",
    "\n",
    "## Using the REPL\n",
    "\n",
    "To start the REPL, just type `python` at the command line.\n",
    "\n",
    "Use the `help()` function to read the documentation for a module/class/function. As a standalone invocation, you enter the help system and can explore various topics.\n",
    "\n",
    "Python scripts are stored in plain text files with `.py` extensions. You can run the script `foo.py` at the command line by invoking `python foo.py`. When you do so the Python interpreter will compile the script to an intermediate bytecode, and the result will be stored in a file with the same base name and a `.pyc` extension. As an optimisation, the interpreter will look to see if a `.pyc` file with a more recent file modification date exists when you invoke it to run a script and use that if it does.\n",
    "\n",
    "## A better REPL: bpython\n",
    "\n",
    "https://www.bpython-interpreter.org/\n",
    "\n",
    "bpython adds a number of useful features at the command line, like syntax highlighting and auto-completion. If you're going to use the command line repl I recommend it, although there are other options too that I haven't tried:\n",
    "\n",
    "- ptpython https://github.com/jonathanslenders/ptpython\n",
    "- DreamPie http://dreampie.sourceforge.net/\n",
    "\n",
    "\n",
    "## Python is an OOPL\n",
    "\n",
    "Python is a pure object-oriented language. Operators are simply methods on a class. The Python interpreter will convert an infix operator to an instance method call.\n",
    "\n",
    "For example, there is an `int` class for integers. The operation `int(3)` boxes the literal 3 up into an `int` object instance. There is an `__add__` method defined on that class for addition. So:\n",
    "\n",
    "    3 + 4\n",
    "    \n",
    "is the same as:\n",
    "\n",
    "    3.__add__(4)\n",
    "    \n",
    "The double underscore in Python is called 'dunder' and is used extensively internally.\n",
    "\n",
    "You can see the methods on a class by using the `dir` function, for example `dir(int)`.\n",
    "\n",
    "We will discuss how to define new classes later. A key takeaway here is that this use of dunder-methods allows us to override many operators simply by overriding the associated dunder-method. Two particularly useful ones are `__str__` (cast to string) and `__repr__` (cast to text representation); these are typically the same for a class but need not be. For example, notice the differences here:"
   ]
  },
  {
   "cell_type": "code",
   "execution_count": 14,
   "metadata": {},
   "outputs": [
    {
     "name": "stdout",
     "output_type": "stream",
     "text": [
      "abc\n",
      "'abc'\n"
     ]
    }
   ],
   "source": [
    "a = \"abc\"\n",
    "print(a.__str__())  # Equivalent to str(a)\n",
    "print(a.__repr__())"
   ]
  },
  {
   "cell_type": "markdown",
   "metadata": {},
   "source": [
    "## Indentation and Comments\n",
    "\n",
    "## Types\n",
    "\n"
   ]
  },
  {
   "cell_type": "code",
   "execution_count": 16,
   "metadata": {},
   "outputs": [
    {
     "name": "stdout",
     "output_type": "stream",
     "text": [
      "123\n",
      "124\n"
     ]
    },
    {
     "data": {
      "text/plain": [
       "124"
      ]
     },
     "execution_count": 16,
     "metadata": {},
     "output_type": "execute_result"
    }
   ],
   "source": [
    "a = 123\n",
    "print(a.__str__())\n",
    "print(a.__add__(1))\n",
    "a.__add__(1)"
   ]
  },
  {
   "cell_type": "markdown",
   "metadata": {},
   "source": [
    "### Lists\n",
    "\n",
    "Lists are ordered, mutable sequences. They can be indexed, sliced (more on that below), appended to, have elements deleted, and sorted. They are heterogeneous. Examples:\n"
   ]
  },
  {
   "cell_type": "code",
   "execution_count": 48,
   "metadata": {},
   "outputs": [
    {
     "name": "stdout",
     "output_type": "stream",
     "text": [
      "[1, 2, 3, 'cat']\n",
      "4\n",
      "2\n",
      "cat\n"
     ]
    }
   ],
   "source": [
    "a = [1, 2, 3, \"cat\"]\n",
    "\n",
    "print(a)\n",
    "print(len(a))  # len() gives the length of the list\n",
    "print(a[1])  # [] can be used to index in to the list\n",
    "print(a[-1])  # negative indices can be used to index from the end of the list (-1 for last element)"
   ]
  },
  {
   "cell_type": "code",
   "execution_count": 49,
   "metadata": {},
   "outputs": [
    {
     "name": "stdout",
     "output_type": "stream",
     "text": [
      "[1, 2, 3, 'cat']\n",
      "[1, 2, 3, 'cat', 1, 2, 3, 'cat']\n"
     ]
    }
   ],
   "source": [
    "print(a)\n",
    "a = a * 2  # * can be used to create multiple concanenated copies of a list\n",
    "print(a)"
   ]
  },
  {
   "cell_type": "code",
   "execution_count": 50,
   "metadata": {},
   "outputs": [
    {
     "name": "stdout",
     "output_type": "stream",
     "text": [
      "[1, 2, 3, 'cat', 1, 2, 3, 'cat']\n",
      "True\n",
      "False\n"
     ]
    }
   ],
   "source": [
    "print(a)\n",
    "print('cat' in a)  # `in` can be used to check for membership\n",
    "print('dog' in a)"
   ]
  },
  {
   "cell_type": "code",
   "execution_count": 51,
   "metadata": {},
   "outputs": [
    {
     "name": "stdout",
     "output_type": "stream",
     "text": [
      "[1, 2, 3, 'cat', 1, 2, 3, 'cat']\n",
      "['dog', 1, 2, 3, 'cat', 1, 2, 3, 'cat']\n",
      "[1, 2, 3, 'cat', 1, 2, 3, 'cat', 'dog']\n"
     ]
    }
   ],
   "source": [
    "print(a)\n",
    "print(['dog'] + a)  # + can be used to concanetenate lists\n",
    "a.append('dog')  # append() can be used for concatenating elements\n",
    "print(a)"
   ]
  },
  {
   "cell_type": "code",
   "execution_count": 52,
   "metadata": {},
   "outputs": [
    {
     "name": "stdout",
     "output_type": "stream",
     "text": [
      "[1, 2, 3, 'cat', 1, 2, 3, 'cat', 'dog']\n",
      "8\n",
      "2\n"
     ]
    }
   ],
   "source": [
    "print(a)\n",
    "print(a.index('dog')) # Get index of first matching entry; throws exception if not found\n",
    "print(a.count('cat'))  # Count the number of instances of an element"
   ]
  },
  {
   "cell_type": "code",
   "execution_count": 53,
   "metadata": {},
   "outputs": [
    {
     "name": "stdout",
     "output_type": "stream",
     "text": [
      "[1, 2, 3, 'cat', 1, 2, 3, 'cat', 'dog']\n",
      "[1, 2, 3, 'cat', 1, 2, 3, 'cat']\n"
     ]
    }
   ],
   "source": [
    "print(a)\n",
    "a.remove('dog')  # Remove first matching instance of element\n",
    "print(a)\n",
    "del a[-1]  # Remove element at index"
   ]
  },
  {
   "cell_type": "code",
   "execution_count": 54,
   "metadata": {},
   "outputs": [
    {
     "name": "stdout",
     "output_type": "stream",
     "text": [
      "[1, 2, 3, 'cat', 1, 2, 3]\n",
      "[3, 2, 1, 'cat', 3, 2, 1]\n"
     ]
    }
   ],
   "source": [
    "print(a)\n",
    "a.reverse()  # Reverse the order of the list\n",
    "print(a)"
   ]
  },
  {
   "cell_type": "code",
   "execution_count": 45,
   "metadata": {},
   "outputs": [
    {
     "name": "stdout",
     "output_type": "stream",
     "text": [
      "['cat', 3, 2, 1, 'cat', 3, 2, 1]\n",
      "cat\n",
      "3\n",
      "2\n",
      "1\n",
      "cat\n",
      "3\n",
      "2\n",
      "1\n"
     ]
    }
   ],
   "source": [
    "print(a)\n",
    "for elt in a:  #  for..in iterates over elements\n",
    "    print(elt)"
   ]
  },
  {
   "cell_type": "code",
   "execution_count": 55,
   "metadata": {},
   "outputs": [
    {
     "name": "stdout",
     "output_type": "stream",
     "text": [
      "[3, 2, 1, 'cat', 3, 2, 1]\n",
      "Value at index 0 is 3\n",
      "Value at index 1 is 2\n",
      "Value at index 2 is 1\n",
      "Value at index 3 is cat\n",
      "Value at index 4 is 3\n",
      "Value at index 5 is 2\n",
      "Value at index 6 is 1\n"
     ]
    }
   ],
   "source": [
    "print(a)\n",
    "for i, v in enumerate(a):\n",
    "    print(f'Value at index {i} is {v}')  # f'' is a format string that can contain code in {}"
   ]
  },
  {
   "cell_type": "code",
   "execution_count": 59,
   "metadata": {},
   "outputs": [
    {
     "name": "stdout",
     "output_type": "stream",
     "text": [
      "[3, 2, 1, 'cat', 3, 2, 1]\n",
      "True\n",
      "False\n",
      "False\n"
     ]
    }
   ],
   "source": [
    "b = list(a)  # Makes a shallow copy; can also use b = a.copy()\n",
    "print(b)\n",
    "print(a == b)\n",
    "b[-1] += 1\n",
    "print(a == b)\n",
    "print(a > b)  # Compares starting from first element"
   ]
  },
  {
   "cell_type": "code",
   "execution_count": 60,
   "metadata": {},
   "outputs": [
    {
     "name": "stdout",
     "output_type": "stream",
     "text": [
      "[3, 2, 1, 'cat', 3, 2, 1]\n",
      "[3, 2, 1, 'cat', 3, 2]\n",
      "[2, 1, 'cat', 3, 2]\n"
     ]
    }
   ],
   "source": [
    "print(a)\n",
    "a.pop()  # Removes last element\n",
    "print(a)\n",
    "a.pop(0)  # removes element at index\n",
    "print(a)"
   ]
  },
  {
   "cell_type": "code",
   "execution_count": null,
   "metadata": {},
   "outputs": [],
   "source": [
    "# TODO: insert, sort, slicing"
   ]
  },
  {
   "cell_type": "code",
   "execution_count": 35,
   "metadata": {},
   "outputs": [
    {
     "name": "stdout",
     "output_type": "stream",
     "text": [
      "4\n",
      "2\n",
      "cat\n",
      "[1, 2, 3, 'cat', 1, 2, 3, 'cat']\n",
      "True\n",
      "False\n",
      "['dog', 1, 2, 3, 'cat', 1, 2, 3, 'cat']\n",
      "[1, 2, 3, 'cat', 1, 2, 3, 'cat', 'dog']\n",
      "8\n",
      "2\n",
      "[1, 2, 3, 'cat', 1, 2, 3, 'cat']\n",
      "[1, 2, 3, 'cat', 1, 2, 3, 'cat']\n",
      "['cat', 3, 2, 1, 'cat', 3, 2, 1]\n",
      "[]\n"
     ]
    }
   ],
   "source": [
    "a.clear()  # empty the list\n",
    "print(a)"
   ]
  },
  {
   "cell_type": "markdown",
   "metadata": {},
   "source": [
    "### Dicts\n",
    "\n",
    "Dictionaries are mutable mappings of keys to values. Keys must be hashable, but values can be any object.\n",
    "\n",
    "\n",
    "### Sets\n",
    "\n",
    "### Tuples\n",
    "\n",
    "### Iterables\n",
    "\n",
    "## Some built-in Functions\n",
    "\n",
    "abs\n",
    "all\n",
    "any\n",
    "chr\n",
    "filter\n",
    "help\n",
    "input\n",
    "isinstance\n",
    "iter\n",
    "len\n",
    "max\n",
    "min\n",
    "next\n",
    "open\n",
    "ord\n",
    "print\n",
    "quit\n",
    "repr\n",
    "reversed\n",
    "round\n",
    "sorted\n",
    "sum\n",
    "type\n",
    "zip\n",
    "\n",
    "## Statements\n",
    "\n",
    "### for\n",
    "\n",
    "### while\n",
    "\n",
    "### if\n",
    "\n",
    "## Reading and Writing Files\n",
    "\n",
    "## Generators\n",
    "\n",
    "## Functions and Lambdas\n",
    "\n",
    "## Exceptions\n",
    "\n",
    "## Decorators\n",
    "\n",
    "## Comprehensions\n",
    "\n",
    "## async/await\n",
    "\n",
    "## Type Annotations\n",
    "\n",
    "## Logging\n",
    "\n",
    "See https://opensource.com/article/17/9/python-logging\n",
    "\n",
    "https://julien.danjou.info/blog/python-logging-easy-with-daiquiri\n",
    "\n",
    "\n",
    "## Cool Stuff\n",
    "\n",
    "See https://github.com/tukkek/notablepython\n",
    "\n",
    "Finding good packages: https://python.libhunt.com/ and https://awesome-python.com/\n",
    "\n",
    "Concise reference: https://github.com/mattharrison/Tiny-Python-3.6-Notebook\n",
    "\n",
    "## Exercise 1 - building a find function that works on 2-dimensional sorted arrays\n",
    "\n",
    "Consider a 2-dimensional array which is sorted on primary, secondary, and possibly more columns. E.g.:\n",
    "\n",
    "    [\n",
    "        [2, 3, 7],\n",
    "        [2, 5, 2],\n",
    "        [2, 6, -1],\n",
    "        [3, 1, 0],\n",
    "        [3, 9, 1],\n",
    "        [8, 0, -2]\n",
    "    ]\n",
    "    \n",
    "which is sorted first on column 0 and then on column 1. We want to write a function that will help us to locate a particular \n",
    "value in this table given a set of keys. E.g. given keys (2, 6), it will return -1, and given (3, 9) it will return 1.\n",
    "\n",
    "Python has a libray function `bisect` that can do this on single-dimensional lists (https://docs.python.org/3.6/library/bisect.html) but not on 2-d lists.\n",
    "\n",
    "One way to do this is to generalize it and pass in the start and end indices of the list, the index of the colun that is the key, and the key value, and return the new start and end indices of the subrange, and then call that function on successive keys. E.g. if we passed in start=0, end=len(data), index=0, and key=2, it should return (0,3), while for start=0, end=len(data), index=0, key=8 it should return (5, 6), and for start=0, end=3, index=1, key=5 it should return (1,1). If the value is not found it should return (-1, -1).\n",
    "\n",
    "Write a function `2dbisect` to do this. A binary search can be used. For reference, here is pseudo-code for binary search:\n",
    "\n",
    "    binary_search(A, target):\n",
    "        lo = 1, hi = size(A)\n",
    "        while lo <= hi:\n",
    "           mid = lo + (hi-lo)/2\n",
    "           if A[mid] == target:\n",
    "              return mid            \n",
    "           else if A[mid] < target: \n",
    "              lo = mid+1\n",
    "           else:\n",
    "              hi = mid-1\n",
    "            \n",
    "        // target was not found"
   ]
  },
  {
   "cell_type": "code",
   "execution_count": null,
   "metadata": {},
   "outputs": [],
   "source": []
  }
 ],
 "metadata": {
  "kernelspec": {
   "display_name": "Python 3",
   "language": "python",
   "name": "python3"
  },
  "language_info": {
   "codemirror_mode": {
    "name": "ipython",
    "version": 3
   },
   "file_extension": ".py",
   "mimetype": "text/x-python",
   "name": "python",
   "nbconvert_exporter": "python",
   "pygments_lexer": "ipython3",
   "version": "3.6.3"
  }
 },
 "nbformat": 4,
 "nbformat_minor": 2
}
