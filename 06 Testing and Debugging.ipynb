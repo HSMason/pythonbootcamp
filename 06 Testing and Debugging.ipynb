{
 "cells": [
  {
   "cell_type": "markdown",
   "metadata": {},
   "source": [
    "# Testing and Debugging\n",
    "\n",
    "\n",
    "## Testing with PyTest\n",
    "\n",
    "## Debugging in PyCharm\n",
    "\n",
    "See https://www.jetbrains.com/help/pycharm/part-1-debugging-python-code.html\n",
    "\n",
    "## Running tests in Jupyter\n",
    "\n",
    "See https://blog.thedataincubator.com/2016/06/testing-jupyter-notebooks/\n",
    "\n",
    "## Benchmarking while Testing\n",
    "\n",
    "See http://pytest-benchmark.readthedocs.io/en/stable/\n"
   ]
  },
  {
   "cell_type": "code",
   "execution_count": null,
   "metadata": {},
   "outputs": [],
   "source": []
  }
 ],
 "metadata": {
  "kernelspec": {
   "display_name": "Python 3",
   "language": "python",
   "name": "python3"
  },
  "language_info": {
   "codemirror_mode": {
    "name": "ipython",
    "version": 3
   },
   "file_extension": ".py",
   "mimetype": "text/x-python",
   "name": "python",
   "nbconvert_exporter": "python",
   "pygments_lexer": "ipython3",
   "version": "3.6.3"
  }
 },
 "nbformat": 4,
 "nbformat_minor": 2
}
