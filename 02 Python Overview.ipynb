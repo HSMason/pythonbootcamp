{
 "cells": [
  {
   "cell_type": "markdown",
   "metadata": {},
   "source": [
    "# Python Overview\n",
    "\n",
    "## Python's Origins\n",
    "\n",
    "## How Python Evolves\n",
    "\n",
    "Python evolves in a fairly straightforward way, more-or-less like this:\n",
    "\n",
    "- people propose changes by writing *Python Enhancement Proposals* (PEPs)\n",
    "- the Python core committee will assign a 'dictator' who will decide whether the PEP is worthy of becoming part of the standard, and if so it does, after some amount of discussion and revision\n",
    "- disagreements are finally settled by Guido van Rossum, Python's inventor and the 'Benevolent Dictator for Life' (BDFL)\n",
    "\n",
    "An important standard PEP is the Style Guide, PEP-8 (https://www.python.org/dev/peps/pep-0008/). By default, PyCharm will warn of any PEP-8 violations. There are external tools such as `flake8` (https://gitlab.com/pycqa/flake8) that can be used to check code for compliance in other environments.\n",
    "\n",
    "## The Zen of Python\n"
   ]
  },
  {
   "cell_type": "code",
   "execution_count": 1,
   "metadata": {},
   "outputs": [
    {
     "name": "stdout",
     "output_type": "stream",
     "text": [
      "The Zen of Python, by Tim Peters\n",
      "\n",
      "Beautiful is better than ugly.\n",
      "Explicit is better than implicit.\n",
      "Simple is better than complex.\n",
      "Complex is better than complicated.\n",
      "Flat is better than nested.\n",
      "Sparse is better than dense.\n",
      "Readability counts.\n",
      "Special cases aren't special enough to break the rules.\n",
      "Although practicality beats purity.\n",
      "Errors should never pass silently.\n",
      "Unless explicitly silenced.\n",
      "In the face of ambiguity, refuse the temptation to guess.\n",
      "There should be one-- and preferably only one --obvious way to do it.\n",
      "Although that way may not be obvious at first unless you're Dutch.\n",
      "Now is better than never.\n",
      "Although never is often better than *right* now.\n",
      "If the implementation is hard to explain, it's a bad idea.\n",
      "If the implementation is easy to explain, it may be a good idea.\n",
      "Namespaces are one honking great idea -- let's do more of those!\n"
     ]
    }
   ],
   "source": [
    "import this"
   ]
  },
  {
   "cell_type": "markdown",
   "metadata": {},
   "source": [
    "## StackOverflow is your friend!\n",
    "\n",
    "For Python questions and Python data science questions, make use of StackOverflow. Pay attention to comments on suggested answers; the \"accepted answer\" is not always the best. Look for comments about whether it is the \"most Pythonic\".\n",
    "\n",
    "https://stackoverflow.com/questions/tagged/python\n",
    "\n",
    "## Python 2.7 or Python 3.x?\n",
    "\n",
    "You can use conda to create a Python 2.7 virtual environment for when you have to use 2.7, but all new projects should be Python 3.5 or later. Python 2.7 is the end of the 2.x line and is supposed to be end-of-lifed in 2020. Avoid it; there is\n",
    "very little reason anymore to use it.\n",
    "\n",
    "## Python docs\n",
    "\n",
    "https://docs.python.org/3/\n",
    "\n",
    "## Using the repl\n",
    "\n",
    "## A better repl: bpython\n",
    "\n",
    "https://www.bpython-interpreter.org/\n",
    "\n",
    "\n",
    "## Types\n",
    "\n",
    "\n",
    "## Statements\n",
    "\n",
    "## Data Structures\n",
    "\n",
    "### Lists\n",
    "\n",
    "### Dicts\n",
    "\n",
    "### Sets\n",
    "\n",
    "### Tuples\n",
    "\n",
    "## Functions\n",
    "\n",
    "## Logging\n",
    "\n",
    "See https://opensource.com/article/17/9/python-logging\n",
    "\n",
    "https://julien.danjou.info/blog/python-logging-easy-with-daiquiri\n",
    "\n",
    "\n",
    "\n",
    "## Cool Stuff\n",
    "\n",
    "See https://github.com/tukkek/notablepython\n",
    "\n",
    "Finding good packages: https://python.libhunt.com/ and https://awesome-python.com/\n",
    "\n",
    "Concise reference: https://github.com/mattharrison/Tiny-Python-3.6-Notebook\n",
    "\n"
   ]
  },
  {
   "cell_type": "code",
   "execution_count": null,
   "metadata": {},
   "outputs": [],
   "source": []
  }
 ],
 "metadata": {
  "kernelspec": {
   "display_name": "Python 3",
   "language": "python",
   "name": "python3"
  },
  "language_info": {
   "codemirror_mode": {
    "name": "ipython",
    "version": 3
   },
   "file_extension": ".py",
   "mimetype": "text/x-python",
   "name": "python",
   "nbconvert_exporter": "python",
   "pygments_lexer": "ipython3",
   "version": "3.6.3"
  }
 },
 "nbformat": 4,
 "nbformat_minor": 2
}
