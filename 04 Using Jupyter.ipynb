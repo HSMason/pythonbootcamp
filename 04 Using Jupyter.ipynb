{
 "cells": [
  {
   "cell_type": "markdown",
   "metadata": {},
   "source": [
    "# Using Jupyter"
   ]
  },
  {
   "cell_type": "markdown",
   "metadata": {},
   "source": [
    "## Running Jupyter\n",
    "\n",
    "## Docs\n",
    "\n",
    "https://jupyter-notebook.readthedocs.io/en/stable/\n",
    "\n",
    "## Tutorial\n",
    "\n",
    "http://jakevdp.github.io/blog/2017/03/03/reproducible-data-analysis-in-jupyter/\n",
    "\n",
    "\n",
    "## Cell Types\n",
    "\n",
    "## Re-ordering, Inserting and Deleting Cells\n",
    "\n",
    "## Executing Shell Commands\n",
    "\n",
    "## Checkpoints and Saving\n",
    "\n",
    "## Tips and Tricks\n",
    "\n",
    "You can get help on a Python function by following it with `?` in Jupyter:"
   ]
  },
  {
   "cell_type": "code",
   "execution_count": 2,
   "metadata": {},
   "outputs": [
    {
     "data": {
      "text/plain": [
       "\u001b[0;31mSignature:\u001b[0m \u001b[0mos\u001b[0m\u001b[0;34m.\u001b[0m\u001b[0mpath\u001b[0m\u001b[0;34m.\u001b[0m\u001b[0mexists\u001b[0m\u001b[0;34m(\u001b[0m\u001b[0mpath\u001b[0m\u001b[0;34m)\u001b[0m\u001b[0;34m\u001b[0m\u001b[0m\n",
       "\u001b[0;31mDocstring:\u001b[0m Test whether a path exists.  Returns False for broken symbolic links\n",
       "\u001b[0;31mFile:\u001b[0m      ~/anaconda/lib/python3.6/genericpath.py\n",
       "\u001b[0;31mType:\u001b[0m      function\n"
      ]
     },
     "metadata": {},
     "output_type": "display_data"
    }
   ],
   "source": [
    "import os\n",
    "\n",
    "os.path.exists?\n"
   ]
  },
  {
   "cell_type": "markdown",
   "metadata": {},
   "source": [
    "That requires you to execute the code; you can do the same without executing the whole cell by typing Shift-TAB after the function name."
   ]
  },
  {
   "cell_type": "code",
   "execution_count": null,
   "metadata": {},
   "outputs": [],
   "source": []
  },
  {
   "cell_type": "markdown",
   "metadata": {},
   "source": [
    "# Interesting Notebooks\n",
    "\n",
    "See https://github.com/jupyter/jupyter/wiki/A-gallery-of-interesting-Jupyter-Notebooks\n",
    "\n",
    "# Jupyter Shortcuts\n",
    "\n",
    "https://cdn.oreillystatic.com/pdf/jupyter-shortcuts.pdf\n"
   ]
  },
  {
   "cell_type": "code",
   "execution_count": null,
   "metadata": {},
   "outputs": [],
   "source": []
  }
 ],
 "metadata": {
  "kernelspec": {
   "display_name": "Python 3",
   "language": "python",
   "name": "python3"
  },
  "language_info": {
   "codemirror_mode": {
    "name": "ipython",
    "version": 3
   },
   "file_extension": ".py",
   "mimetype": "text/x-python",
   "name": "python",
   "nbconvert_exporter": "python",
   "pygments_lexer": "ipython3",
   "version": "3.6.3"
  }
 },
 "nbformat": 4,
 "nbformat_minor": 2
}
